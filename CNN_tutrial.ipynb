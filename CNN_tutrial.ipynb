{
  "nbformat": 4,
  "nbformat_minor": 0,
  "metadata": {
    "colab": {
      "name": "CNN_tutrial.ipynb",
      "version": "0.3.2",
      "provenance": [],
      "collapsed_sections": []
    },
    "kernelspec": {
      "name": "python3",
      "display_name": "Python 3"
    }
  },
  "cells": [
    {
      "metadata": {
        "id": "a5sE5sq6hXNf",
        "colab_type": "code",
        "colab": {}
      },
      "cell_type": "code",
      "source": [
        "import keras\n",
        "from keras.datasets import mnist\n",
        "from keras.models import Sequential\n",
        "from keras.layers import Dense, Dropout\n",
        "from keras.optimizers import RMSprop\n",
        "from keras.callbacks import EarlyStopping\n",
        "from keras.layers import Dense, Dropout, Flatten\n",
        "from keras.layers import Conv2D, MaxPooling2D\n",
        "import numpy as np"
      ],
      "execution_count": 0,
      "outputs": []
    },
    {
      "metadata": {
        "id": "i0A9DhivK3fi",
        "colab_type": "code",
        "colab": {}
      },
      "cell_type": "code",
      "source": [
        "from matplotlib import pyplot as plt\n",
        "%matplotlib inline"
      ],
      "execution_count": 0,
      "outputs": []
    },
    {
      "metadata": {
        "id": "23qsIWAzJZDU",
        "colab_type": "text"
      },
      "cell_type": "markdown",
      "source": [
        "## データセットの読み込み・整形"
      ]
    },
    {
      "metadata": {
        "id": "IMCQXHDoJOs8",
        "colab_type": "code",
        "colab": {}
      },
      "cell_type": "code",
      "source": [
        "(x_train, y_train), (x_test, y_test) = mnist.load_data()"
      ],
      "execution_count": 0,
      "outputs": []
    },
    {
      "metadata": {
        "id": "PB2AxvkoJQ_r",
        "colab_type": "code",
        "colab": {
          "base_uri": "https://localhost:8080/",
          "height": 51
        },
        "outputId": "644c08a5-3dfa-4e96-fd39-01656a59bfe5"
      },
      "cell_type": "code",
      "source": [
        "x_train = x_train.astype('float32')   # int型をfloat32型に変換\n",
        "x_test = x_test.astype('float32')\n",
        "x_train /= 255                        # [0-255]の値を[0.0-1.0]に変換\n",
        "x_test /= 255\n",
        "print(x_train.shape, 'train samples')\n",
        "print(x_test.shape, 'test samples')"
      ],
      "execution_count": 84,
      "outputs": [
        {
          "output_type": "stream",
          "text": [
            "(60000, 28, 28) train samples\n",
            "(10000, 28, 28) test samples\n"
          ],
          "name": "stdout"
        }
      ]
    },
    {
      "metadata": {
        "id": "rHz-xK1MLZid",
        "colab_type": "code",
        "colab": {
          "base_uri": "https://localhost:8080/",
          "height": 282
        },
        "outputId": "d3c40be8-43a6-4838-dc0e-8cce4f74891f"
      },
      "cell_type": "code",
      "source": [
        "plt.imshow(x_train[0])"
      ],
      "execution_count": 85,
      "outputs": [
        {
          "output_type": "execute_result",
          "data": {
            "text/plain": [
              "<matplotlib.image.AxesImage at 0x7fb65ea95978>"
            ]
          },
          "metadata": {
            "tags": []
          },
          "execution_count": 85
        },
        {
          "output_type": "display_data",
          "data": {
            "image/png": "[encoded data removed]",
            "text/plain": [
              "<matplotlib.figure.Figure at 0x7fb65e9f6128>"
            ]
          },
          "metadata": {
            "tags": []
          }
        }
      ]
    },
    {
      "metadata": {
        "id": "pIdLfTF9JoCx",
        "colab_type": "code",
        "colab": {}
      },
      "cell_type": "code",
      "source": [
        "y_train = keras.utils.to_categorical(y_train, num_classes)\n",
        "y_test = keras.utils.to_categorical(y_test, num_classes)"
      ],
      "execution_count": 0,
      "outputs": []
    },
    {
      "metadata": {
        "id": "CPzIPS2kP-ZW",
        "colab_type": "text"
      },
      "cell_type": "markdown",
      "source": [
        "CNN入力用に4次元へ拡張"
      ]
    },
    {
      "metadata": {
        "id": "ixIGWK5FQDcz",
        "colab_type": "code",
        "colab": {}
      },
      "cell_type": "code",
      "source": [
        "x_train = x_train[:,:,:,np.newaxis]\n",
        "x_test = x_test[:,:,:,np.newaxis]"
      ],
      "execution_count": 0,
      "outputs": []
    },
    {
      "metadata": {
        "id": "Q1xRD8f5L4NW",
        "colab_type": "text"
      },
      "cell_type": "markdown",
      "source": [
        "## モデルの定義"
      ]
    },
    {
      "metadata": {
        "id": "19r4c6DuJL60",
        "colab_type": "code",
        "colab": {}
      },
      "cell_type": "code",
      "source": [
        "batch_size = 128\n",
        "num_classes = 10\n",
        "epochs = 20\n",
        "img_rows,img_cols = x_train.shape[1],x_train.shape[2]\n",
        "input_shape = (img_rows, img_cols, 1)"
      ],
      "execution_count": 0,
      "outputs": []
    },
    {
      "metadata": {
        "id": "N_x5SQBmJsPH",
        "colab_type": "code",
        "colab": {}
      },
      "cell_type": "code",
      "source": [
        "model = Sequential()\n",
        "early_stopping = EarlyStopping(monitor='loss', patience=2)\n",
        "model.add(Conv2D(32, kernel_size=(3, 3),\n",
        "                 activation='relu',\n",
        "                 input_shape=input_shape))\n",
        "model.add(Conv2D(32, (3, 3), activation='relu'))\n",
        "model.add(MaxPooling2D(pool_size=(2, 2)))\n",
        "model.add(Dropout(0.25))\n",
        "model.add(Flatten())\n",
        "model.add(Dense(128, activation='relu'))\n",
        "model.add(Dropout(0.5))\n",
        "model.add(Dense(num_classes, activation='softmax'))\n",
        "\n",
        "model.compile(loss=keras.losses.categorical_crossentropy,\n",
        "              optimizer=RMSprop(),\n",
        "              metrics=['accuracy'])"
      ],
      "execution_count": 0,
      "outputs": []
    },
    {
      "metadata": {
        "id": "WJlL1sEuJ7cD",
        "colab_type": "code",
        "colab": {
          "base_uri": "https://localhost:8080/",
          "height": 479
        },
        "outputId": "f54c0e05-52be-42ed-bce5-2a2403b9aa9d"
      },
      "cell_type": "code",
      "source": [
        "model.fit(x_train, y_train,\n",
        "          batch_size=batch_size,\n",
        "          epochs=epochs,\n",
        "          verbose=1,\n",
        "          validation_data=(x_test, y_test),callbacks=[early_stopping])"
      ],
      "execution_count": 98,
      "outputs": [
        {
          "output_type": "stream",
          "text": [
            "Train on 60000 samples, validate on 10000 samples\n",
            "Epoch 1/20\n",
            "60000/60000 [==============================] - 123s 2ms/step - loss: 0.2403 - acc: 0.9251 - val_loss: 0.0589 - val_acc: 0.9817\n",
            "Epoch 2/20\n",
            "14080/60000 [======>.......................] - ETA: 1:30 - loss: 0.0979 - acc: 0.9722"
          ],
          "name": "stdout"
        },
        {
          "output_type": "stream",
          "text": [
            "60000/60000 [==============================] - 123s 2ms/step - loss: 0.0873 - acc: 0.9746 - val_loss: 0.0444 - val_acc: 0.9849\n",
            "Epoch 3/20\n",
            "39936/60000 [==================>...........] - ETA: 39s - loss: 0.0717 - acc: 0.9786"
          ],
          "name": "stdout"
        },
        {
          "output_type": "stream",
          "text": [
            "60000/60000 [==============================] - 122s 2ms/step - loss: 0.0691 - acc: 0.9794 - val_loss: 0.0353 - val_acc: 0.9875\n",
            "Epoch 4/20\n",
            "49664/60000 [=======================>......] - ETA: 20s - loss: 0.0590 - acc: 0.9824"
          ],
          "name": "stdout"
        },
        {
          "output_type": "stream",
          "text": [
            "60000/60000 [==============================] - 122s 2ms/step - loss: 0.0579 - acc: 0.9826 - val_loss: 0.0321 - val_acc: 0.9893\n",
            "Epoch 5/20\n",
            "53376/60000 [=========================>....] - ETA: 12s - loss: 0.0516 - acc: 0.9844"
          ],
          "name": "stdout"
        },
        {
          "output_type": "stream",
          "text": [
            "60000/60000 [==============================] - 121s 2ms/step - loss: 0.0519 - acc: 0.9843 - val_loss: 0.0366 - val_acc: 0.9866\n",
            "Epoch 6/20\n",
            "54784/60000 [==========================>...] - ETA: 10s - loss: 0.0498 - acc: 0.9851"
          ],
          "name": "stdout"
        },
        {
          "output_type": "stream",
          "text": [
            "60000/60000 [==============================] - 121s 2ms/step - loss: 0.0495 - acc: 0.9850 - val_loss: 0.0319 - val_acc: 0.9894\n",
            "Epoch 7/20\n",
            "55296/60000 [==========================>...] - ETA: 9s - loss: 0.0475 - acc: 0.9861"
          ],
          "name": "stdout"
        },
        {
          "output_type": "stream",
          "text": [
            "60000/60000 [==============================] - 121s 2ms/step - loss: 0.0474 - acc: 0.9861 - val_loss: 0.0298 - val_acc: 0.9906\n",
            "Epoch 8/20\n",
            "55552/60000 [==========================>...] - ETA: 8s - loss: 0.0456 - acc: 0.9868"
          ],
          "name": "stdout"
        },
        {
          "output_type": "stream",
          "text": [
            "60000/60000 [==============================] - 121s 2ms/step - loss: 0.0456 - acc: 0.9867 - val_loss: 0.0294 - val_acc: 0.9910\n",
            "Epoch 9/20\n",
            "55680/60000 [==========================>...] - ETA: 8s - loss: 0.0437 - acc: 0.9873"
          ],
          "name": "stdout"
        },
        {
          "output_type": "stream",
          "text": [
            "60000/60000 [==============================] - 120s 2ms/step - loss: 0.0440 - acc: 0.9874 - val_loss: 0.0315 - val_acc: 0.9908\n",
            "Epoch 10/20\n",
            "55424/60000 [==========================>...] - ETA: 8s - loss: 0.0408 - acc: 0.9879"
          ],
          "name": "stdout"
        },
        {
          "output_type": "stream",
          "text": [
            "60000/60000 [==============================] - 120s 2ms/step - loss: 0.0423 - acc: 0.9875 - val_loss: 0.0290 - val_acc: 0.9910\n",
            "Epoch 11/20\n",
            "55296/60000 [==========================>...] - ETA: 9s - loss: 0.0438 - acc: 0.9873"
          ],
          "name": "stdout"
        },
        {
          "output_type": "stream",
          "text": [
            "60000/60000 [==============================] - 120s 2ms/step - loss: 0.0434 - acc: 0.9875 - val_loss: 0.0315 - val_acc: 0.9904\n",
            "Epoch 12/20\n",
            "55296/60000 [==========================>...] - ETA: 9s - loss: 0.0428 - acc: 0.9879"
          ],
          "name": "stdout"
        },
        {
          "output_type": "stream",
          "text": [
            "60000/60000 [==============================] - 120s 2ms/step - loss: 0.0429 - acc: 0.9879 - val_loss: 0.0298 - val_acc: 0.9913\n"
          ],
          "name": "stdout"
        },
        {
          "output_type": "execute_result",
          "data": {
            "text/plain": [
              "<keras.callbacks.History at 0x7fb65d8b6278>"
            ]
          },
          "metadata": {
            "tags": []
          },
          "execution_count": 98
        }
      ]
    },
    {
      "metadata": {
        "id": "GgO7W_SVTA3H",
        "colab_type": "code",
        "colab": {
          "base_uri": "https://localhost:8080/",
          "height": 51
        },
        "outputId": "f3def4c5-663d-4d5e-9262-f4a851d706b9"
      },
      "cell_type": "code",
      "source": [
        "score = model.evaluate(x_test, y_test, verbose=0)\n",
        "print('Test loss:', score[0])\n",
        "print('Test accuracy:', score[1])"
      ],
      "execution_count": 99,
      "outputs": [
        {
          "output_type": "stream",
          "text": [
            "Test loss: 0.029769323450732917\n",
            "Test accuracy: 0.9913\n"
          ],
          "name": "stdout"
        }
      ]
    },
    {
      "metadata": {
        "id": "dzrMnIGYfGrm",
        "colab_type": "code",
        "colab": {
          "base_uri": "https://localhost:8080/",
          "height": 408
        },
        "outputId": "9012c0c2-8686-4f50-c9de-9755c8aec33e"
      },
      "cell_type": "code",
      "source": [
        "model.summary()"
      ],
      "execution_count": 100,
      "outputs": [
        {
          "output_type": "stream",
          "text": [
            "_________________________________________________________________\n",
            "Layer (type)                 Output Shape              Param #   \n",
            "=================================================================\n",
            "conv2d_9 (Conv2D)            (None, 26, 26, 32)        320       \n",
            "_________________________________________________________________\n",
            "conv2d_10 (Conv2D)           (None, 24, 24, 32)        9248      \n",
            "_________________________________________________________________\n",
            "max_pooling2d_5 (MaxPooling2 (None, 12, 12, 32)        0         \n",
            "_________________________________________________________________\n",
            "dropout_11 (Dropout)         (None, 12, 12, 32)        0         \n",
            "_________________________________________________________________\n",
            "flatten_5 (Flatten)          (None, 4608)              0         \n",
            "_________________________________________________________________\n",
            "dense_12 (Dense)             (None, 128)               589952    \n",
            "_________________________________________________________________\n",
            "dropout_12 (Dropout)         (None, 128)               0         \n",
            "_________________________________________________________________\n",
            "dense_13 (Dense)             (None, 10)                1290      \n",
            "=================================================================\n",
            "Total params: 600,810\n",
            "Trainable params: 600,810\n",
            "Non-trainable params: 0\n",
            "_________________________________________________________________\n"
          ],
          "name": "stdout"
        }
      ]
    },
    {
      "metadata": {
        "id": "lE4McDdJjoGD",
        "colab_type": "text"
      },
      "cell_type": "markdown",
      "source": [
        ""
      ]
    }
  ]
}